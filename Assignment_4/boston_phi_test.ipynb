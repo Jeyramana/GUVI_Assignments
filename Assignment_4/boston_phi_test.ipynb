{
 "cells": [
  {
   "cell_type": "markdown",
   "metadata": {},
   "source": [
    "1. Import Libraries"
   ]
  },
  {
   "cell_type": "code",
   "execution_count": 1,
   "metadata": {},
   "outputs": [],
   "source": [
    "import numpy as np\n",
    "import pandas as pd\n",
    "from sklearn.preprocessing import MinMaxScaler"
   ]
  },
  {
   "cell_type": "markdown",
   "metadata": {},
   "source": [
    "2. Import phi and phi_test from train and test datasets using NumPy's loadtxt function"
   ]
  },
  {
   "cell_type": "code",
   "execution_count": 11,
   "metadata": {},
   "outputs": [
    {
     "data": {
      "text/plain": [
       "(array([  0.95577,   0.     ,   8.14   ,   0.     ,   0.538  ,   6.047  ,\n",
       "         88.8    ,   4.4534 ,   4.     , 307.     ,  21.     , 306.38   ,\n",
       "         17.28   ]),\n",
       " array([1.0612e-01, 3.0000e+01, 4.9300e+00, 0.0000e+00, 4.2800e-01,\n",
       "        6.0950e+00, 6.5100e+01, 6.3361e+00, 6.0000e+00, 3.0000e+02,\n",
       "        1.6600e+01, 3.9462e+02, 1.2400e+01]))"
      ]
     },
     "execution_count": 11,
     "metadata": {},
     "output_type": "execute_result"
    }
   ],
   "source": [
    "phi = np.loadtxt('train.csv', skiprows=1, delimiter=',', dtype='float', usecols=tuple(range(1, 14)))\n",
    "phi_test = np.loadtxt('test.csv', skiprows=1, delimiter=',', dtype='float', usecols=tuple(range(1, 14)))\n",
    "phi[0], phi_test[0]"
   ]
  },
  {
   "cell_type": "markdown",
   "metadata": {},
   "source": [
    "3. Import y from train dataset using the loadtxt function"
   ]
  },
  {
   "cell_type": "code",
   "execution_count": 17,
   "metadata": {},
   "outputs": [
    {
     "data": {
      "text/plain": [
       "array([14.8])"
      ]
     },
     "execution_count": 17,
     "metadata": {},
     "output_type": "execute_result"
    }
   ],
   "source": [
    "y = np.loadtxt('train.csv', skiprows=1, dtype='float', usecols=14, ndmin=2, delimiter=',')\n",
    "y[0]"
   ]
  },
  {
   "cell_type": "markdown",
   "metadata": {},
   "source": [
    "4. Concatenate coloumn of 1s to right of phi and phi_test"
   ]
  },
  {
   "cell_type": "code",
   "execution_count": 22,
   "metadata": {},
   "outputs": [
    {
     "data": {
      "text/plain": [
       "(array([  0.95577,   0.     ,   8.14   ,   0.     ,   0.538  ,   6.047  ,\n",
       "         88.8    ,   4.4534 ,   4.     , 307.     ,  21.     , 306.38   ,\n",
       "         17.28   ,   1.     ]),\n",
       " array([1.0612e-01, 3.0000e+01, 4.9300e+00, 0.0000e+00, 4.2800e-01,\n",
       "        6.0950e+00, 6.5100e+01, 6.3361e+00, 6.0000e+00, 3.0000e+02,\n",
       "        1.6600e+01, 3.9462e+02, 1.2400e+01, 1.0000e+00]))"
      ]
     },
     "execution_count": 22,
     "metadata": {},
     "output_type": "execute_result"
    }
   ],
   "source": [
    "phi = np.concatenate((phi, np.ones((400, 1))), axis=1)\n",
    "phi_test = np.concatenate((phi_test, np.ones((105, 1))), axis=1)\n",
    "phi[0], phi_test[0]"
   ]
  },
  {
   "cell_type": "markdown",
   "metadata": {},
   "source": [
    "5. Apply min max scaling on each coloumn of phi and phi_test\n",
    "> ![](2022-10-27-18-02-57.png)"
   ]
  },
  {
   "cell_type": "code",
   "execution_count": 26,
   "metadata": {},
   "outputs": [],
   "source": [
    "scaler = MinMaxScaler(feature_range=(0,1))\n",
    "scaler.fit(phi)\n",
    "phi = scaler.transform(phi)\n",
    "phi_test = scaler.transform(phi_test)"
   ]
  },
  {
   "cell_type": "markdown",
   "metadata": {},
   "source": [
    "6. Apply log scaling on y"
   ]
  },
  {
   "cell_type": "code",
   "execution_count": 27,
   "metadata": {},
   "outputs": [],
   "source": [
    "y = np.log(y)"
   ]
  },
  {
   "cell_type": "markdown",
   "metadata": {},
   "source": [
    "7. Define a function to calculate change in error function based on phi, w and p norm\n",
    "> ![](2022-10-27-18-07-08.png)"
   ]
  },
  {
   "cell_type": "code",
   "execution_count": 28,
   "metadata": {},
   "outputs": [],
   "source": [
    "def CostFunction(p, beta, phi, lamb):\n",
    "    if p == 2:\n",
    "        dJ = (2 * (np.dot(np.dot(np.transpose(phi), phi), beta) - np.dot(np.transpose(phi), y)) + \n",
    "            lamb*p*np.power(np.absolute(beta), (p-1)))\n",
    "    elif p > 1 and p < 2:\n",
    "        dJ = (2 * (np.dot(np.dot(np.transpose(phi), phi), beta) - np.dot(np.transpose(phi), y)) + \n",
    "            lamb*p*np.power(np.absolute(beta), (p-1))*np.sign(beta))\n",
    "    return dJ"
   ]
  },
  {
   "cell_type": "markdown",
   "metadata": {},
   "source": [
    "8. Make a dictionary containing filenames as keys and p as values"
   ]
  },
  {
   "cell_type": "code",
   "execution_count": 29,
   "metadata": {},
   "outputs": [],
   "source": [
    "# I would like to append predicted MEDV values in output.csv for different p values\n",
    "\n",
    "filenames = {'output.csv':[2.0, 1.75, 1.5, 1.3, 1.0]}"
   ]
  },
  {
   "cell_type": "markdown",
   "metadata": {},
   "source": [
    "9. For each item in this dictionary\n",
    "    + Set the `w` to all 0s\n",
    "    + Set an appropriate value for `lambda` and `step size`\n",
    "    + Calculate new value of `w`\n",
    "    + Repeat steps until error between consecutive `w`s is less than threshold\n",
    "    + Load values of `id` from test data file\n",
    "    + Calculate `y` for test data using `phi_test` and applying inverse log\n",
    "    + Save the `id`s and `y` according to filename from dictionary"
   ]
  },
  {
   "cell_type": "code",
   "execution_count": null,
   "metadata": {},
   "outputs": [],
   "source": []
  }
 ],
 "metadata": {
  "kernelspec": {
   "display_name": "Python 3.10.4 ('env1')",
   "language": "python",
   "name": "python3"
  },
  "language_info": {
   "codemirror_mode": {
    "name": "ipython",
    "version": 3
   },
   "file_extension": ".py",
   "mimetype": "text/x-python",
   "name": "python",
   "nbconvert_exporter": "python",
   "pygments_lexer": "ipython3",
   "version": "3.10.4"
  },
  "orig_nbformat": 4,
  "vscode": {
   "interpreter": {
    "hash": "5024435cbfb8faf8bbbcdcac495405647c340211599983c8ce8e312773b27794"
   }
  }
 },
 "nbformat": 4,
 "nbformat_minor": 2
}
