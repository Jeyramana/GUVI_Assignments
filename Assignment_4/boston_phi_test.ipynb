{
 "cells": [
  {
   "cell_type": "markdown",
   "metadata": {},
   "source": [
    "1. Import Libraries"
   ]
  },
  {
   "cell_type": "code",
   "execution_count": 92,
   "metadata": {},
   "outputs": [],
   "source": [
    "import numpy as np\n",
    "import pandas as pd\n",
    "from sklearn.preprocessing import MinMaxScaler\n",
    "import seaborn as sns\n",
    "import plotly.graph_objects as go\n",
    "import matplotlib.pyplot as plt"
   ]
  },
  {
   "cell_type": "markdown",
   "metadata": {},
   "source": [
    "2. Import phi and phi_test from train and test datasets using NumPy's loadtxt function"
   ]
  },
  {
   "cell_type": "code",
   "execution_count": 93,
   "metadata": {},
   "outputs": [
    {
     "data": {
      "text/plain": [
       "(array([  0.95577,   0.     ,   8.14   ,   0.     ,   0.538  ,   6.047  ,\n",
       "         88.8    ,   4.4534 ,   4.     , 307.     ,  21.     , 306.38   ,\n",
       "         17.28   ]),\n",
       " array([1.0612e-01, 3.0000e+01, 4.9300e+00, 0.0000e+00, 4.2800e-01,\n",
       "        6.0950e+00, 6.5100e+01, 6.3361e+00, 6.0000e+00, 3.0000e+02,\n",
       "        1.6600e+01, 3.9462e+02, 1.2400e+01]))"
      ]
     },
     "execution_count": 93,
     "metadata": {},
     "output_type": "execute_result"
    }
   ],
   "source": [
    "phi = np.loadtxt('train.csv', skiprows=1, delimiter=',', dtype='float', usecols=tuple(range(1, 14)))\n",
    "phi_test = np.loadtxt('test.csv', skiprows=1, delimiter=',', dtype='float', usecols=tuple(range(1, 14)))\n",
    "phi[0], phi_test[0]"
   ]
  },
  {
   "cell_type": "markdown",
   "metadata": {},
   "source": [
    "3. Import y from train dataset using the loadtxt function"
   ]
  },
  {
   "cell_type": "code",
   "execution_count": 94,
   "metadata": {},
   "outputs": [
    {
     "data": {
      "text/plain": [
       "array([14.8])"
      ]
     },
     "execution_count": 94,
     "metadata": {},
     "output_type": "execute_result"
    }
   ],
   "source": [
    "y = np.loadtxt('train.csv', skiprows=1, dtype='float', usecols=14, ndmin=2, delimiter=',')\n",
    "y[0]"
   ]
  },
  {
   "cell_type": "markdown",
   "metadata": {},
   "source": [
    "4. Concatenate coloumn of 1s to right of phi and phi_test"
   ]
  },
  {
   "cell_type": "code",
   "execution_count": 95,
   "metadata": {},
   "outputs": [
    {
     "data": {
      "text/plain": [
       "(array([  0.95577,   0.     ,   8.14   ,   0.     ,   0.538  ,   6.047  ,\n",
       "         88.8    ,   4.4534 ,   4.     , 307.     ,  21.     , 306.38   ,\n",
       "         17.28   ,   1.     ]),\n",
       " array([1.0612e-01, 3.0000e+01, 4.9300e+00, 0.0000e+00, 4.2800e-01,\n",
       "        6.0950e+00, 6.5100e+01, 6.3361e+00, 6.0000e+00, 3.0000e+02,\n",
       "        1.6600e+01, 3.9462e+02, 1.2400e+01, 1.0000e+00]))"
      ]
     },
     "execution_count": 95,
     "metadata": {},
     "output_type": "execute_result"
    }
   ],
   "source": [
    "phi = np.concatenate((phi, np.ones((400, 1))), axis=1)\n",
    "phi_test = np.concatenate((phi_test, np.ones((105, 1))), axis=1)\n",
    "phi[0], phi_test[0]"
   ]
  },
  {
   "cell_type": "markdown",
   "metadata": {},
   "source": [
    "5. Apply min max scaling on each coloumn of phi and phi_test\n",
    "> ![](2022-10-27-18-02-57.png)"
   ]
  },
  {
   "cell_type": "code",
   "execution_count": 96,
   "metadata": {},
   "outputs": [],
   "source": [
    "scaler = MinMaxScaler(feature_range=(0,1))\n",
    "scaler.fit(phi)\n",
    "phi = scaler.transform(phi)\n",
    "phi_test = scaler.transform(phi_test)"
   ]
  },
  {
   "cell_type": "markdown",
   "metadata": {},
   "source": [
    "6. Apply log scaling on y"
   ]
  },
  {
   "cell_type": "code",
   "execution_count": 97,
   "metadata": {},
   "outputs": [],
   "source": [
    "y = np.log(y)"
   ]
  },
  {
   "cell_type": "markdown",
   "metadata": {},
   "source": [
    "7. Define a function to calculate change in error function based on phi, w and p norm\n",
    "> ![](2022-10-27-18-07-08.png)"
   ]
  },
  {
   "cell_type": "code",
   "execution_count": 98,
   "metadata": {},
   "outputs": [],
   "source": [
    "def CostFunction(p, beta, phi, lamb):\n",
    "    \n",
    "    # L2 Cost function gradient\n",
    "    if p == 2:\n",
    "        dJ = (2 * (np.dot(np.dot(np.transpose(phi), phi), beta) - np.dot(np.transpose(phi), y)) + \n",
    "            lamb*p*np.power(np.absolute(beta), (p-1)))\n",
    "        \n",
    "    # Lp Cost function gradient\n",
    "    elif p >= 1 and p < 2:\n",
    "        dJ = (2 * (np.dot(np.dot(np.transpose(phi), phi), beta) - np.dot(np.transpose(phi), y)) + \n",
    "            lamb*p*np.power(np.absolute(beta), (p-1))*np.sign(beta))\n",
    "    return dJ"
   ]
  },
  {
   "cell_type": "markdown",
   "metadata": {},
   "source": [
    "8. Make a dictionary containing filenames as keys and p as values"
   ]
  },
  {
   "cell_type": "code",
   "execution_count": 99,
   "metadata": {},
   "outputs": [],
   "source": [
    "# I would like to append predicted MEDV values in output.csv for different p values\n",
    "p_values = [2.0, 1.75, 1.5, 1.3, 1.0]"
   ]
  },
  {
   "cell_type": "markdown",
   "metadata": {},
   "source": [
    "9. For each p value predict MEDV"
   ]
  },
  {
   "cell_type": "code",
   "execution_count": 100,
   "metadata": {},
   "outputs": [
    {
     "name": "stdout",
     "output_type": "stream",
     "text": [
      "Lp norm:  2.0 , Total Iterations:  7862\n",
      "Lp norm:  1.75 , Total Iterations:  6796\n",
      "Lp norm:  1.5 , Total Iterations:  6800\n",
      "Lp norm:  1.3 , Total Iterations:  6792\n",
      "Lp norm:  1.0 , Total Iterations:  6789\n"
     ]
    }
   ],
   "source": [
    "for p in p_values:\n",
    "    \n",
    "    # Set the `w` or `β` to all 0s\n",
    "    beta = np.zeros((14, 1))\n",
    "    \n",
    "    # Set an appropriate value for `lambda` and `step size`\n",
    "    lamb = 0.2\n",
    "    t = 0.0001\n",
    "    \n",
    "    # Calculate new value of `w` or `β`\n",
    "    beta_new = beta - t * CostFunction(p, beta, phi, lamb)\n",
    "    \n",
    "    # Repeat steps until error between consecutive `w`s or `β`s is less than threshold\n",
    "    i = 0\n",
    "    while (np.linalg.norm(beta_new-beta) > 0.00001):\n",
    "        \n",
    "        # Gradient Descent Method\n",
    "        beta = beta_new\n",
    "        beta_new = beta - t * CostFunction(p, beta, phi, lamb)\n",
    "        \n",
    "        i += 1 # iteration count\n",
    "    \n",
    "    print('Lp norm: ', p, ', Total Iterations: ', i)\n",
    "    \n",
    "    # Load values of `id` from test data file\n",
    "    df = pd.read_csv('output.csv')\n",
    "    del df['Unnamed: 0']\n",
    "    \n",
    "    # Calculate `y` for test data using `phi_test` and applying inverse log\n",
    "    y_predict = np.dot(phi_test, beta_new)\n",
    "    y_predict = np.exp(y_predict)\n",
    "    \n",
    "    # Save the `id`s and `y` according to filename from dictionary\n",
    "    name = f'L{p}_MEDV'\n",
    "    df[name] = y_predict\n",
    "    df.to_csv('output.csv')"
   ]
  },
  {
   "cell_type": "markdown",
   "metadata": {},
   "source": [
    "Conclusion"
   ]
  },
  {
   "cell_type": "code",
   "execution_count": 101,
   "metadata": {},
   "outputs": [
    {
     "data": {
      "text/html": [
       "<div>\n",
       "<style scoped>\n",
       "    .dataframe tbody tr th:only-of-type {\n",
       "        vertical-align: middle;\n",
       "    }\n",
       "\n",
       "    .dataframe tbody tr th {\n",
       "        vertical-align: top;\n",
       "    }\n",
       "\n",
       "    .dataframe thead th {\n",
       "        text-align: right;\n",
       "    }\n",
       "</style>\n",
       "<table border=\"1\" class=\"dataframe\">\n",
       "  <thead>\n",
       "    <tr style=\"text-align: right;\">\n",
       "      <th></th>\n",
       "      <th>ID</th>\n",
       "      <th>LR_MEDV</th>\n",
       "      <th>L2.0_MEDV</th>\n",
       "      <th>L1.75_MEDV</th>\n",
       "      <th>L1.5_MEDV</th>\n",
       "      <th>L1.3_MEDV</th>\n",
       "      <th>L1.0_MEDV</th>\n",
       "    </tr>\n",
       "  </thead>\n",
       "  <tbody>\n",
       "    <tr>\n",
       "      <th>0</th>\n",
       "      <td>0</td>\n",
       "      <td>21.715287</td>\n",
       "      <td>21.293240</td>\n",
       "      <td>21.211613</td>\n",
       "      <td>21.196973</td>\n",
       "      <td>21.187179</td>\n",
       "      <td>21.169197</td>\n",
       "    </tr>\n",
       "    <tr>\n",
       "      <th>1</th>\n",
       "      <td>1</td>\n",
       "      <td>26.462126</td>\n",
       "      <td>22.892581</td>\n",
       "      <td>22.924649</td>\n",
       "      <td>22.943314</td>\n",
       "      <td>22.959495</td>\n",
       "      <td>22.988855</td>\n",
       "    </tr>\n",
       "    <tr>\n",
       "      <th>2</th>\n",
       "      <td>2</td>\n",
       "      <td>16.766338</td>\n",
       "      <td>5.268038</td>\n",
       "      <td>5.269272</td>\n",
       "      <td>5.280456</td>\n",
       "      <td>5.286219</td>\n",
       "      <td>5.290187</td>\n",
       "    </tr>\n",
       "    <tr>\n",
       "      <th>3</th>\n",
       "      <td>3</td>\n",
       "      <td>17.454942</td>\n",
       "      <td>29.012182</td>\n",
       "      <td>28.990695</td>\n",
       "      <td>29.043694</td>\n",
       "      <td>29.079674</td>\n",
       "      <td>29.116893</td>\n",
       "    </tr>\n",
       "    <tr>\n",
       "      <th>4</th>\n",
       "      <td>4</td>\n",
       "      <td>23.734498</td>\n",
       "      <td>10.950729</td>\n",
       "      <td>10.972862</td>\n",
       "      <td>10.994232</td>\n",
       "      <td>11.012415</td>\n",
       "      <td>11.043737</td>\n",
       "    </tr>\n",
       "  </tbody>\n",
       "</table>\n",
       "</div>"
      ],
      "text/plain": [
       "   ID    LR_MEDV  L2.0_MEDV  L1.75_MEDV  L1.5_MEDV  L1.3_MEDV  L1.0_MEDV\n",
       "0   0  21.715287  21.293240   21.211613  21.196973  21.187179  21.169197\n",
       "1   1  26.462126  22.892581   22.924649  22.943314  22.959495  22.988855\n",
       "2   2  16.766338   5.268038    5.269272   5.280456   5.286219   5.290187\n",
       "3   3  17.454942  29.012182   28.990695  29.043694  29.079674  29.116893\n",
       "4   4  23.734498  10.950729   10.972862  10.994232  11.012415  11.043737"
      ]
     },
     "execution_count": 101,
     "metadata": {},
     "output_type": "execute_result"
    }
   ],
   "source": [
    "df.head() # All perdicted MEDV"
   ]
  },
  {
   "cell_type": "code",
   "execution_count": 102,
   "metadata": {},
   "outputs": [
    {
     "data": {
      "text/html": [
       "<div>\n",
       "<style scoped>\n",
       "    .dataframe tbody tr th:only-of-type {\n",
       "        vertical-align: middle;\n",
       "    }\n",
       "\n",
       "    .dataframe tbody tr th {\n",
       "        vertical-align: top;\n",
       "    }\n",
       "\n",
       "    .dataframe thead th {\n",
       "        text-align: right;\n",
       "    }\n",
       "</style>\n",
       "<table border=\"1\" class=\"dataframe\">\n",
       "  <thead>\n",
       "    <tr style=\"text-align: right;\">\n",
       "      <th></th>\n",
       "      <th>LR_MEDV</th>\n",
       "      <th>L2.0_MEDV</th>\n",
       "      <th>L1.75_MEDV</th>\n",
       "      <th>L1.5_MEDV</th>\n",
       "      <th>L1.3_MEDV</th>\n",
       "      <th>L1.0_MEDV</th>\n",
       "    </tr>\n",
       "  </thead>\n",
       "  <tbody>\n",
       "    <tr>\n",
       "      <th>LR_MEDV</th>\n",
       "      <td>1.000000</td>\n",
       "      <td>0.734547</td>\n",
       "      <td>0.738624</td>\n",
       "      <td>0.739893</td>\n",
       "      <td>0.740635</td>\n",
       "      <td>0.741358</td>\n",
       "    </tr>\n",
       "    <tr>\n",
       "      <th>L2.0_MEDV</th>\n",
       "      <td>0.734547</td>\n",
       "      <td>1.000000</td>\n",
       "      <td>0.999885</td>\n",
       "      <td>0.999795</td>\n",
       "      <td>0.999710</td>\n",
       "      <td>0.999557</td>\n",
       "    </tr>\n",
       "    <tr>\n",
       "      <th>L1.75_MEDV</th>\n",
       "      <td>0.738624</td>\n",
       "      <td>0.999885</td>\n",
       "      <td>1.000000</td>\n",
       "      <td>0.999983</td>\n",
       "      <td>0.999950</td>\n",
       "      <td>0.999873</td>\n",
       "    </tr>\n",
       "    <tr>\n",
       "      <th>L1.5_MEDV</th>\n",
       "      <td>0.739893</td>\n",
       "      <td>0.999795</td>\n",
       "      <td>0.999983</td>\n",
       "      <td>1.000000</td>\n",
       "      <td>0.999991</td>\n",
       "      <td>0.999945</td>\n",
       "    </tr>\n",
       "    <tr>\n",
       "      <th>L1.3_MEDV</th>\n",
       "      <td>0.740635</td>\n",
       "      <td>0.999710</td>\n",
       "      <td>0.999950</td>\n",
       "      <td>0.999991</td>\n",
       "      <td>1.000000</td>\n",
       "      <td>0.999980</td>\n",
       "    </tr>\n",
       "    <tr>\n",
       "      <th>L1.0_MEDV</th>\n",
       "      <td>0.741358</td>\n",
       "      <td>0.999557</td>\n",
       "      <td>0.999873</td>\n",
       "      <td>0.999945</td>\n",
       "      <td>0.999980</td>\n",
       "      <td>1.000000</td>\n",
       "    </tr>\n",
       "  </tbody>\n",
       "</table>\n",
       "</div>"
      ],
      "text/plain": [
       "             LR_MEDV  L2.0_MEDV  L1.75_MEDV  L1.5_MEDV  L1.3_MEDV  L1.0_MEDV\n",
       "LR_MEDV     1.000000   0.734547    0.738624   0.739893   0.740635   0.741358\n",
       "L2.0_MEDV   0.734547   1.000000    0.999885   0.999795   0.999710   0.999557\n",
       "L1.75_MEDV  0.738624   0.999885    1.000000   0.999983   0.999950   0.999873\n",
       "L1.5_MEDV   0.739893   0.999795    0.999983   1.000000   0.999991   0.999945\n",
       "L1.3_MEDV   0.740635   0.999710    0.999950   0.999991   1.000000   0.999980\n",
       "L1.0_MEDV   0.741358   0.999557    0.999873   0.999945   0.999980   1.000000"
      ]
     },
     "execution_count": 102,
     "metadata": {},
     "output_type": "execute_result"
    }
   ],
   "source": [
    "df[['LR_MEDV', 'L2.0_MEDV', 'L1.75_MEDV', 'L1.5_MEDV', 'L1.3_MEDV', 'L1.0_MEDV']].corr()"
   ]
  },
  {
   "cell_type": "code",
   "execution_count": 103,
   "metadata": {},
   "outputs": [
    {
     "data": {
      "text/plain": [
       "<AxesSubplot:>"
      ]
     },
     "execution_count": 103,
     "metadata": {},
     "output_type": "execute_result"
    },
    {
     "data": {
      "image/png": "[encoded data removed]",
      "text/plain": [
       "<Figure size 640x480 with 2 Axes>"
      ]
     },
     "metadata": {},
     "output_type": "display_data"
    }
   ],
   "source": [
    "# Correlation between Linear, Ridge, LASSO Regression\n",
    "sns.heatmap(df[['LR_MEDV', 'L2.0_MEDV', 'L1.0_MEDV']].corr(), annot=True)"
   ]
  },
  {
   "cell_type": "code",
   "execution_count": 104,
   "metadata": {},
   "outputs": [
    {
     "data": {
      "text/plain": [
       "<AxesSubplot:>"
      ]
     },
     "execution_count": 104,
     "metadata": {},
     "output_type": "execute_result"
    },
    {
     "data": {
      "image/png": "[encoded data removed]",
      "text/plain": [
       "<Figure size 640x480 with 2 Axes>"
      ]
     },
     "metadata": {},
     "output_type": "display_data"
    }
   ],
   "source": [
    "# Correlation between L2 (RIDGE), L1 (LASSO), L1.75, L1.5, 1.3 Regression\n",
    "sns.heatmap(df[['L2.0_MEDV', 'L1.75_MEDV', 'L1.5_MEDV', 'L1.3_MEDV', 'L1.0_MEDV']].corr(), annot=True)"
   ]
  }
 ],
 "metadata": {
  "kernelspec": {
   "display_name": "Python 3.10.4 ('env1')",
   "language": "python",
   "name": "python3"
  },
  "language_info": {
   "codemirror_mode": {
    "name": "ipython",
    "version": 3
   },
   "file_extension": ".py",
   "mimetype": "text/x-python",
   "name": "python",
   "nbconvert_exporter": "python",
   "pygments_lexer": "ipython3",
   "version": "3.10.4"
  },
  "orig_nbformat": 4,
  "vscode": {
   "interpreter": {
    "hash": "5024435cbfb8faf8bbbcdcac495405647c340211599983c8ce8e312773b27794"
   }
  }
 },
 "nbformat": 4,
 "nbformat_minor": 2
}
