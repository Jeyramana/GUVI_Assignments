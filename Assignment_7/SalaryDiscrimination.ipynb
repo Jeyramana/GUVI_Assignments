{
 "cells": [
  {
   "cell_type": "markdown",
   "metadata": {},
   "source": [
    "# Assignment - 7"
   ]
  },
  {
   "cell_type": "markdown",
   "metadata": {},
   "source": [
    "# Salary Discrimination\n",
    "\n",
    "The file `salary.txt` contains data for 52 tenure-track professors at a small Midwestern college. This data was used in legal proceedings in the 1980s about discrimination against women in salary.\n",
    "\n",
    "The data in the file, by column:\n",
    "\n",
    "1. Sex. 1 for female, 0 for male.\n",
    "2. Rank. 1 for assistant professor, 2 for associate professor, 3 for full professor.\n",
    "3. Year. Number of years in current rank.\n",
    "4. Degree. Highest degree. 1 for doctorate, 0 for master's.\n",
    "5. YSdeg. Years since highest degree was earned.\n",
    "6. Salary. Salary/year in dollars."
   ]
  },
  {
   "cell_type": "markdown",
   "metadata": {},
   "source": [
    "## Import Libraries"
   ]
  },
  {
   "cell_type": "code",
   "execution_count": 55,
   "metadata": {},
   "outputs": [],
   "source": [
    "import numpy as np\n",
    "import pandas as pd\n",
    "from sklearn.linear_model import LinearRegression\n",
    "import matplotlib.pyplot as plt\n",
    "import itertools as it\n",
    "import seaborn as sns"
   ]
  },
  {
   "cell_type": "markdown",
   "metadata": {},
   "source": [
    "## Tasks"
   ]
  },
  {
   "cell_type": "markdown",
   "metadata": {},
   "source": [
    "1. Find the linear regression equation for this data using columns 1-5 to column 6."
   ]
  },
  {
   "cell_type": "code",
   "execution_count": 3,
   "metadata": {},
   "outputs": [
    {
     "data": {
      "text/html": [
       "<div>\n",
       "<style scoped>\n",
       "    .dataframe tbody tr th:only-of-type {\n",
       "        vertical-align: middle;\n",
       "    }\n",
       "\n",
       "    .dataframe tbody tr th {\n",
       "        vertical-align: top;\n",
       "    }\n",
       "\n",
       "    .dataframe thead th {\n",
       "        text-align: right;\n",
       "    }\n",
       "</style>\n",
       "<table border=\"1\" class=\"dataframe\">\n",
       "  <thead>\n",
       "    <tr style=\"text-align: right;\">\n",
       "      <th></th>\n",
       "      <th>Sex</th>\n",
       "      <th>Rank</th>\n",
       "      <th>Year</th>\n",
       "      <th>Degree</th>\n",
       "      <th>YSdeg</th>\n",
       "      <th>Salary</th>\n",
       "    </tr>\n",
       "  </thead>\n",
       "  <tbody>\n",
       "    <tr>\n",
       "      <th>0</th>\n",
       "      <td>0</td>\n",
       "      <td>3</td>\n",
       "      <td>25</td>\n",
       "      <td>1</td>\n",
       "      <td>35</td>\n",
       "      <td>36350</td>\n",
       "    </tr>\n",
       "    <tr>\n",
       "      <th>1</th>\n",
       "      <td>0</td>\n",
       "      <td>3</td>\n",
       "      <td>13</td>\n",
       "      <td>1</td>\n",
       "      <td>22</td>\n",
       "      <td>35350</td>\n",
       "    </tr>\n",
       "    <tr>\n",
       "      <th>2</th>\n",
       "      <td>0</td>\n",
       "      <td>3</td>\n",
       "      <td>10</td>\n",
       "      <td>1</td>\n",
       "      <td>23</td>\n",
       "      <td>28200</td>\n",
       "    </tr>\n",
       "    <tr>\n",
       "      <th>3</th>\n",
       "      <td>1</td>\n",
       "      <td>3</td>\n",
       "      <td>7</td>\n",
       "      <td>1</td>\n",
       "      <td>27</td>\n",
       "      <td>26775</td>\n",
       "    </tr>\n",
       "    <tr>\n",
       "      <th>4</th>\n",
       "      <td>0</td>\n",
       "      <td>3</td>\n",
       "      <td>19</td>\n",
       "      <td>0</td>\n",
       "      <td>30</td>\n",
       "      <td>33696</td>\n",
       "    </tr>\n",
       "  </tbody>\n",
       "</table>\n",
       "</div>"
      ],
      "text/plain": [
       "   Sex  Rank  Year  Degree  YSdeg  Salary\n",
       "0    0     3    25       1     35   36350\n",
       "1    0     3    13       1     22   35350\n",
       "2    0     3    10       1     23   28200\n",
       "3    1     3     7       1     27   26775\n",
       "4    0     3    19       0     30   33696"
      ]
     },
     "execution_count": 3,
     "metadata": {},
     "output_type": "execute_result"
    }
   ],
   "source": [
    "df = pd.read_fwf(\"salary.txt\", header=None, \n",
    "                 names=[\"Sex\", \"Rank\", \"Year\", \"Degree\", \"YSdeg\", \"Salary\"])\n",
    "df.head()"
   ]
  },
  {
   "cell_type": "code",
   "execution_count": 6,
   "metadata": {},
   "outputs": [],
   "source": [
    "X_train = df.drop('Salary', axis=1)\n",
    "Y_train = df['Salary'].values.reshape(-1,1)\n",
    "\n",
    "# Linear Equation:\n",
    "reg_LR = LinearRegression()\n",
    "reg_LR.fit(X_train, Y_train)\n",
    "Y_predict = reg_LR.predict(X_train)"
   ]
  },
  {
   "cell_type": "markdown",
   "metadata": {},
   "source": [
    "2. Find the selection of columns with the best $R^2$ score."
   ]
  },
  {
   "cell_type": "code",
   "execution_count": 51,
   "metadata": {},
   "outputs": [
    {
     "data": {
      "text/plain": [
       "[('Sex',),\n",
       " ('Rank',),\n",
       " ('Year',),\n",
       " ('Degree',),\n",
       " ('YSdeg',),\n",
       " ('Sex', 'Rank'),\n",
       " ('Sex', 'Year'),\n",
       " ('Sex', 'Degree'),\n",
       " ('Sex', 'YSdeg'),\n",
       " ('Rank', 'Year'),\n",
       " ('Rank', 'Degree'),\n",
       " ('Rank', 'YSdeg'),\n",
       " ('Year', 'Degree'),\n",
       " ('Year', 'YSdeg'),\n",
       " ('Degree', 'YSdeg'),\n",
       " ('Sex', 'Rank', 'Year'),\n",
       " ('Sex', 'Rank', 'Degree'),\n",
       " ('Sex', 'Rank', 'YSdeg'),\n",
       " ('Sex', 'Year', 'Degree'),\n",
       " ('Sex', 'Year', 'YSdeg'),\n",
       " ('Sex', 'Degree', 'YSdeg'),\n",
       " ('Rank', 'Year', 'Degree'),\n",
       " ('Rank', 'Year', 'YSdeg'),\n",
       " ('Rank', 'Degree', 'YSdeg'),\n",
       " ('Year', 'Degree', 'YSdeg'),\n",
       " ('Sex', 'Rank', 'Year', 'Degree'),\n",
       " ('Sex', 'Rank', 'Year', 'YSdeg'),\n",
       " ('Sex', 'Rank', 'Degree', 'YSdeg'),\n",
       " ('Sex', 'Year', 'Degree', 'YSdeg'),\n",
       " ('Rank', 'Year', 'Degree', 'YSdeg'),\n",
       " ('Sex', 'Rank', 'Year', 'Degree', 'YSdeg')]"
      ]
     },
     "execution_count": 51,
     "metadata": {},
     "output_type": "execute_result"
    }
   ],
   "source": [
    "col_combos = []\n",
    "\n",
    "for i in range(len(df.columns)):\n",
    "    col_combos += list(it.combinations(X_train.columns, i+1))\n",
    "\n",
    "col_combos"
   ]
  },
  {
   "cell_type": "code",
   "execution_count": 52,
   "metadata": {},
   "outputs": [],
   "source": [
    "def reg_score(input_cols):\n",
    "    X_train = df[list(input_cols)]\n",
    "    Y_train = df['Salary'].values.reshape(-1,1)\n",
    "\n",
    "    # Linear Equation:\n",
    "    reg_LR = LinearRegression()\n",
    "    reg_LR.fit(X_train, Y_train)\n",
    "    return reg_LR.score(X_train, Y_train)"
   ]
  },
  {
   "cell_type": "code",
   "execution_count": 53,
   "metadata": {},
   "outputs": [
    {
     "name": "stdout",
     "output_type": "stream",
     "text": [
      "('Sex',) 0.06389892583288015\n",
      "('Rank',) 0.7525360539274633\n",
      "('Year',) 0.49093702676921624\n",
      "('Degree',) 0.004861680984748373\n",
      "('YSdeg',) 0.45542813458360276\n",
      "('Sex', 'Rank') 0.7554917749443394\n",
      "('Sex', 'Year') 0.4911360941886387\n",
      "('Sex', 'Degree') 0.06643739842018881\n",
      "('Sex', 'YSdeg') 0.4930479271966782\n",
      "('Rank', 'Year') 0.8436480933264598\n",
      "('Rank', 'Degree') 0.7557961688386643\n",
      "('Rank', 'YSdeg') 0.7623948189698249\n",
      "('Year', 'Degree') 0.4919014149016442\n",
      "('Year', 'YSdeg') 0.5782019226431887\n",
      "('Degree', 'YSdeg') 0.5409662288237875\n",
      "('Sex', 'Rank', 'Year') 0.8454319861987166\n",
      "('Sex', 'Rank', 'Degree') 0.7583144768153612\n",
      "('Sex', 'Rank', 'YSdeg') 0.7666122610227071\n",
      "('Sex', 'Year', 'Degree') 0.49207944757472966\n",
      "('Sex', 'Year', 'YSdeg') 0.5808063918180405\n",
      "('Sex', 'Degree', 'YSdeg') 0.5832708257660315\n",
      "('Rank', 'Year', 'Degree') 0.8437395200874137\n",
      "('Rank', 'Year', 'YSdeg') 0.8456725764485598\n",
      "('Rank', 'Degree', 'YSdeg') 0.7625149185326454\n",
      "('Year', 'Degree', 'YSdeg') 0.6236261611533505\n",
      "('Sex', 'Rank', 'Year', 'Degree') 0.845547641297936\n",
      "('Sex', 'Rank', 'Year', 'YSdeg') 0.8490366192262851\n",
      "('Sex', 'Rank', 'Degree', 'YSdeg') 0.7671813414350668\n",
      "('Sex', 'Year', 'Degree', 'YSdeg') 0.6311597502907434\n",
      "('Rank', 'Year', 'Degree', 'YSdeg') 0.8485077204335425\n",
      "('Sex', 'Rank', 'Year', 'Degree', 'YSdeg') 0.8547180674410969\n"
     ]
    }
   ],
   "source": [
    "max_score = 0\n",
    "trains = []\n",
    "for i in col_combos:\n",
    "    score = reg_score(i)\n",
    "    if max_score < score:\n",
    "        trains = []\n",
    "        max_score = score\n",
    "        trains += list(i)\n",
    "    print(i, reg_score(i))"
   ]
  },
  {
   "cell_type": "code",
   "execution_count": 54,
   "metadata": {},
   "outputs": [
    {
     "name": "stdout",
     "output_type": "stream",
     "text": [
      "['Sex', 'Rank', 'Year', 'Degree', 'YSdeg'] 0.8547180674410969\n"
     ]
    }
   ],
   "source": [
    "print(trains, max_score) # Best R2 Score"
   ]
  },
  {
   "cell_type": "markdown",
   "metadata": {},
   "source": [
    "3. Report whether sex is a factor in salary."
   ]
  },
  {
   "cell_type": "markdown",
   "metadata": {},
   "source": [
    "R2 Score for ('Sex', 'Salary') is 0.06389892583288015 which indicates no direct influence in salary."
   ]
  }
 ],
 "metadata": {
  "kernelspec": {
   "display_name": "Python 3.10.4 ('env1')",
   "language": "python",
   "name": "python3"
  },
  "language_info": {
   "codemirror_mode": {
    "name": "ipython",
    "version": 3
   },
   "file_extension": ".py",
   "mimetype": "text/x-python",
   "name": "python",
   "nbconvert_exporter": "python",
   "pygments_lexer": "ipython3",
   "version": "3.10.4"
  },
  "orig_nbformat": 4,
  "vscode": {
   "interpreter": {
    "hash": "5024435cbfb8faf8bbbcdcac495405647c340211599983c8ce8e312773b27794"
   }
  }
 },
 "nbformat": 4,
 "nbformat_minor": 2
}
