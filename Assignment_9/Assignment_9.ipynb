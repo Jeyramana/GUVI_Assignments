{
 "cells": [
  {
   "cell_type": "markdown",
   "metadata": {},
   "source": [
    "# Library Import"
   ]
  },
  {
   "cell_type": "code",
   "execution_count": 1,
   "metadata": {},
   "outputs": [],
   "source": [
    "import numpy as np\n",
    "import pandas as pd\n",
    "from googletrans import Translator"
   ]
  },
  {
   "cell_type": "markdown",
   "metadata": {},
   "source": [
    "# Read Data"
   ]
  },
  {
   "cell_type": "code",
   "execution_count": 2,
   "metadata": {},
   "outputs": [
    {
     "data": {
      "text/html": [
       "<div>\n",
       "<style scoped>\n",
       "    .dataframe tbody tr th:only-of-type {\n",
       "        vertical-align: middle;\n",
       "    }\n",
       "\n",
       "    .dataframe tbody tr th {\n",
       "        vertical-align: top;\n",
       "    }\n",
       "\n",
       "    .dataframe thead th {\n",
       "        text-align: right;\n",
       "    }\n",
       "</style>\n",
       "<table border=\"1\" class=\"dataframe\">\n",
       "  <thead>\n",
       "    <tr style=\"text-align: right;\">\n",
       "      <th></th>\n",
       "      <th>English words/sentences</th>\n",
       "    </tr>\n",
       "  </thead>\n",
       "  <tbody>\n",
       "    <tr>\n",
       "      <th>0</th>\n",
       "      <td>Hi.</td>\n",
       "    </tr>\n",
       "    <tr>\n",
       "      <th>1</th>\n",
       "      <td>Run!</td>\n",
       "    </tr>\n",
       "    <tr>\n",
       "      <th>2</th>\n",
       "      <td>Run!</td>\n",
       "    </tr>\n",
       "    <tr>\n",
       "      <th>3</th>\n",
       "      <td>Who?</td>\n",
       "    </tr>\n",
       "    <tr>\n",
       "      <th>4</th>\n",
       "      <td>Wow!</td>\n",
       "    </tr>\n",
       "  </tbody>\n",
       "</table>\n",
       "</div>"
      ],
      "text/plain": [
       "  English words/sentences\n",
       "0                     Hi.\n",
       "1                    Run!\n",
       "2                    Run!\n",
       "3                    Who?\n",
       "4                    Wow!"
      ]
     },
     "execution_count": 2,
     "metadata": {},
     "output_type": "execute_result"
    }
   ],
   "source": [
    "df = pd.read_csv('English.csv')\n",
    "df.head()"
   ]
  },
  {
   "cell_type": "code",
   "execution_count": 3,
   "metadata": {},
   "outputs": [
    {
     "data": {
      "text/html": [
       "<div>\n",
       "<style scoped>\n",
       "    .dataframe tbody tr th:only-of-type {\n",
       "        vertical-align: middle;\n",
       "    }\n",
       "\n",
       "    .dataframe tbody tr th {\n",
       "        vertical-align: top;\n",
       "    }\n",
       "\n",
       "    .dataframe thead th {\n",
       "        text-align: right;\n",
       "    }\n",
       "</style>\n",
       "<table border=\"1\" class=\"dataframe\">\n",
       "  <thead>\n",
       "    <tr style=\"text-align: right;\">\n",
       "      <th></th>\n",
       "      <th>English words/sentences</th>\n",
       "    </tr>\n",
       "  </thead>\n",
       "  <tbody>\n",
       "    <tr>\n",
       "      <th>count</th>\n",
       "      <td>175621</td>\n",
       "    </tr>\n",
       "    <tr>\n",
       "      <th>unique</th>\n",
       "      <td>123100</td>\n",
       "    </tr>\n",
       "    <tr>\n",
       "      <th>top</th>\n",
       "      <td>I can't tell you how happy I am that you've co...</td>\n",
       "    </tr>\n",
       "    <tr>\n",
       "      <th>freq</th>\n",
       "      <td>32</td>\n",
       "    </tr>\n",
       "  </tbody>\n",
       "</table>\n",
       "</div>"
      ],
      "text/plain": [
       "                                  English words/sentences\n",
       "count                                              175621\n",
       "unique                                             123100\n",
       "top     I can't tell you how happy I am that you've co...\n",
       "freq                                                   32"
      ]
     },
     "execution_count": 3,
     "metadata": {},
     "output_type": "execute_result"
    }
   ],
   "source": [
    "df.describe()"
   ]
  },
  {
   "cell_type": "code",
   "execution_count": 4,
   "metadata": {},
   "outputs": [
    {
     "data": {
      "text/plain": [
       "English words/sentences    0\n",
       "dtype: int64"
      ]
     },
     "execution_count": 4,
     "metadata": {},
     "output_type": "execute_result"
    }
   ],
   "source": [
    "df.isnull().sum()"
   ]
  },
  {
   "cell_type": "markdown",
   "metadata": {},
   "source": [
    "# Task 1\n",
    "----------\n",
    "Translate each word or sentence from English to Spanish, French and German "
   ]
  },
  {
   "cell_type": "code",
   "execution_count": 10,
   "metadata": {},
   "outputs": [
    {
     "data": {
      "text/html": [
       "<div>\n",
       "<style scoped>\n",
       "    .dataframe tbody tr th:only-of-type {\n",
       "        vertical-align: middle;\n",
       "    }\n",
       "\n",
       "    .dataframe tbody tr th {\n",
       "        vertical-align: top;\n",
       "    }\n",
       "\n",
       "    .dataframe thead th {\n",
       "        text-align: right;\n",
       "    }\n",
       "</style>\n",
       "<table border=\"1\" class=\"dataframe\">\n",
       "  <thead>\n",
       "    <tr style=\"text-align: right;\">\n",
       "      <th></th>\n",
       "      <th>English words/sentences</th>\n",
       "    </tr>\n",
       "  </thead>\n",
       "  <tbody>\n",
       "    <tr>\n",
       "      <th>23559</th>\n",
       "      <td>How did you get in?</td>\n",
       "    </tr>\n",
       "    <tr>\n",
       "      <th>13200</th>\n",
       "      <td>You smell awful.</td>\n",
       "    </tr>\n",
       "    <tr>\n",
       "      <th>154161</th>\n",
       "      <td>I think he can get along with his neighbors.</td>\n",
       "    </tr>\n",
       "    <tr>\n",
       "      <th>110732</th>\n",
       "      <td>Now, what else can I do for you?</td>\n",
       "    </tr>\n",
       "    <tr>\n",
       "      <th>83359</th>\n",
       "      <td>I shouldn't have interfered.</td>\n",
       "    </tr>\n",
       "    <tr>\n",
       "      <th>...</th>\n",
       "      <td>...</td>\n",
       "    </tr>\n",
       "    <tr>\n",
       "      <th>118953</th>\n",
       "      <td>Don't think about stuff like that.</td>\n",
       "    </tr>\n",
       "    <tr>\n",
       "      <th>74647</th>\n",
       "      <td>He advised me not to smoke.</td>\n",
       "    </tr>\n",
       "    <tr>\n",
       "      <th>39089</th>\n",
       "      <td>You have been warned.</td>\n",
       "    </tr>\n",
       "    <tr>\n",
       "      <th>153881</th>\n",
       "      <td>I arrived late, so I didn't hear everything.</td>\n",
       "    </tr>\n",
       "    <tr>\n",
       "      <th>70783</th>\n",
       "      <td>She cut the apple in half.</td>\n",
       "    </tr>\n",
       "  </tbody>\n",
       "</table>\n",
       "<p>100 rows × 1 columns</p>\n",
       "</div>"
      ],
      "text/plain": [
       "                             English words/sentences\n",
       "23559                            How did you get in?\n",
       "13200                               You smell awful.\n",
       "154161  I think he can get along with his neighbors.\n",
       "110732              Now, what else can I do for you?\n",
       "83359                   I shouldn't have interfered.\n",
       "...                                              ...\n",
       "118953            Don't think about stuff like that.\n",
       "74647                    He advised me not to smoke.\n",
       "39089                          You have been warned.\n",
       "153881  I arrived late, so I didn't hear everything.\n",
       "70783                     She cut the apple in half.\n",
       "\n",
       "[100 rows x 1 columns]"
      ]
     },
     "execution_count": 10,
     "metadata": {},
     "output_type": "execute_result"
    }
   ],
   "source": [
    "# Taking only 100 samples as current hardware deosn't have capability to compute for 175621 samples\n",
    "df1 = df.sample(n=100) \n",
    "df1"
   ]
  },
  {
   "cell_type": "code",
   "execution_count": 11,
   "metadata": {},
   "outputs": [],
   "source": [
    "translator = Translator()\n",
    "\n",
    "df1['Spanish'] = df1['English words/sentences'].apply(translator.translate, src='en', dest='es').apply(getattr, args=('text',))\n",
    "df1['French'] = df1['English words/sentences'].apply(translator.translate, src='en', dest='fr').apply(getattr, args=('text',))\n",
    "df1['German'] = df1['English words/sentences'].apply(translator.translate, src='en', dest='de').apply(getattr, args=('text',))"
   ]
  },
  {
   "cell_type": "code",
   "execution_count": 12,
   "metadata": {},
   "outputs": [
    {
     "data": {
      "text/html": [
       "<div>\n",
       "<style scoped>\n",
       "    .dataframe tbody tr th:only-of-type {\n",
       "        vertical-align: middle;\n",
       "    }\n",
       "\n",
       "    .dataframe tbody tr th {\n",
       "        vertical-align: top;\n",
       "    }\n",
       "\n",
       "    .dataframe thead th {\n",
       "        text-align: right;\n",
       "    }\n",
       "</style>\n",
       "<table border=\"1\" class=\"dataframe\">\n",
       "  <thead>\n",
       "    <tr style=\"text-align: right;\">\n",
       "      <th></th>\n",
       "      <th>English words/sentences</th>\n",
       "      <th>Spanish</th>\n",
       "      <th>French</th>\n",
       "      <th>German</th>\n",
       "    </tr>\n",
       "  </thead>\n",
       "  <tbody>\n",
       "    <tr>\n",
       "      <th>23559</th>\n",
       "      <td>How did you get in?</td>\n",
       "      <td>¿Cómo entraste?</td>\n",
       "      <td>Comment êtes-vous entré?</td>\n",
       "      <td>Wie bist du reingekommen?</td>\n",
       "    </tr>\n",
       "    <tr>\n",
       "      <th>13200</th>\n",
       "      <td>You smell awful.</td>\n",
       "      <td>Hueles horrible.</td>\n",
       "      <td>Vous sentez mauvais.</td>\n",
       "      <td>Du riechst schrecklich.</td>\n",
       "    </tr>\n",
       "    <tr>\n",
       "      <th>154161</th>\n",
       "      <td>I think he can get along with his neighbors.</td>\n",
       "      <td>Creo que puede llevarse bien con sus vecinos.</td>\n",
       "      <td>Je pense qu'il peut s'entendre avec ses voisins.</td>\n",
       "      <td>Ich denke, er kommt mit seinen Nachbarn zurecht.</td>\n",
       "    </tr>\n",
       "    <tr>\n",
       "      <th>110732</th>\n",
       "      <td>Now, what else can I do for you?</td>\n",
       "      <td>Ahora, ¿qué más puedo hacer por ti?</td>\n",
       "      <td>Maintenant, que puis-je faire d'autre pour vous ?</td>\n",
       "      <td>Was kann ich sonst noch für Sie tun?</td>\n",
       "    </tr>\n",
       "    <tr>\n",
       "      <th>83359</th>\n",
       "      <td>I shouldn't have interfered.</td>\n",
       "      <td>No debería haber interferido.</td>\n",
       "      <td>Je n'aurais pas dû intervenir.</td>\n",
       "      <td>Ich hätte mich nicht einmischen sollen.</td>\n",
       "    </tr>\n",
       "    <tr>\n",
       "      <th>...</th>\n",
       "      <td>...</td>\n",
       "      <td>...</td>\n",
       "      <td>...</td>\n",
       "      <td>...</td>\n",
       "    </tr>\n",
       "    <tr>\n",
       "      <th>118953</th>\n",
       "      <td>Don't think about stuff like that.</td>\n",
       "      <td>No pienses en cosas así.</td>\n",
       "      <td>Ne pense pas à des trucs comme ça.</td>\n",
       "      <td>Denk nicht an solche Sachen.</td>\n",
       "    </tr>\n",
       "    <tr>\n",
       "      <th>74647</th>\n",
       "      <td>He advised me not to smoke.</td>\n",
       "      <td>Me aconsejó que no fumara.</td>\n",
       "      <td>Il m'a conseillé de ne pas fumer.</td>\n",
       "      <td>Er riet mir, nicht zu rauchen.</td>\n",
       "    </tr>\n",
       "    <tr>\n",
       "      <th>39089</th>\n",
       "      <td>You have been warned.</td>\n",
       "      <td>Usted ha sido advertido.</td>\n",
       "      <td>Tu étais prévenu.</td>\n",
       "      <td>Du wurdest gewarnt.</td>\n",
       "    </tr>\n",
       "    <tr>\n",
       "      <th>153881</th>\n",
       "      <td>I arrived late, so I didn't hear everything.</td>\n",
       "      <td>Llegué tarde, así que no escuché todo.</td>\n",
       "      <td>Je suis arrivé en retard, donc je n'ai pas tou...</td>\n",
       "      <td>Ich kam spät an, also habe ich nicht alles geh...</td>\n",
       "    </tr>\n",
       "    <tr>\n",
       "      <th>70783</th>\n",
       "      <td>She cut the apple in half.</td>\n",
       "      <td>Cortó la manzana por la mitad.</td>\n",
       "      <td>Elle a coupé la pomme en deux.</td>\n",
       "      <td>Sie hat den Apfel halbiert.</td>\n",
       "    </tr>\n",
       "  </tbody>\n",
       "</table>\n",
       "<p>100 rows × 4 columns</p>\n",
       "</div>"
      ],
      "text/plain": [
       "                             English words/sentences  \\\n",
       "23559                            How did you get in?   \n",
       "13200                               You smell awful.   \n",
       "154161  I think he can get along with his neighbors.   \n",
       "110732              Now, what else can I do for you?   \n",
       "83359                   I shouldn't have interfered.   \n",
       "...                                              ...   \n",
       "118953            Don't think about stuff like that.   \n",
       "74647                    He advised me not to smoke.   \n",
       "39089                          You have been warned.   \n",
       "153881  I arrived late, so I didn't hear everything.   \n",
       "70783                     She cut the apple in half.   \n",
       "\n",
       "                                              Spanish  \\\n",
       "23559                                 ¿Cómo entraste?   \n",
       "13200                                Hueles horrible.   \n",
       "154161  Creo que puede llevarse bien con sus vecinos.   \n",
       "110732            Ahora, ¿qué más puedo hacer por ti?   \n",
       "83359                   No debería haber interferido.   \n",
       "...                                               ...   \n",
       "118953                       No pienses en cosas así.   \n",
       "74647                      Me aconsejó que no fumara.   \n",
       "39089                        Usted ha sido advertido.   \n",
       "153881         Llegué tarde, así que no escuché todo.   \n",
       "70783                  Cortó la manzana por la mitad.   \n",
       "\n",
       "                                                   French  \\\n",
       "23559                            Comment êtes-vous entré?   \n",
       "13200                                Vous sentez mauvais.   \n",
       "154161   Je pense qu'il peut s'entendre avec ses voisins.   \n",
       "110732  Maintenant, que puis-je faire d'autre pour vous ?   \n",
       "83359                      Je n'aurais pas dû intervenir.   \n",
       "...                                                   ...   \n",
       "118953                 Ne pense pas à des trucs comme ça.   \n",
       "74647                   Il m'a conseillé de ne pas fumer.   \n",
       "39089                                   Tu étais prévenu.   \n",
       "153881  Je suis arrivé en retard, donc je n'ai pas tou...   \n",
       "70783                      Elle a coupé la pomme en deux.   \n",
       "\n",
       "                                                   German  \n",
       "23559                           Wie bist du reingekommen?  \n",
       "13200                             Du riechst schrecklich.  \n",
       "154161   Ich denke, er kommt mit seinen Nachbarn zurecht.  \n",
       "110732               Was kann ich sonst noch für Sie tun?  \n",
       "83359             Ich hätte mich nicht einmischen sollen.  \n",
       "...                                                   ...  \n",
       "118953                       Denk nicht an solche Sachen.  \n",
       "74647                      Er riet mir, nicht zu rauchen.  \n",
       "39089                                 Du wurdest gewarnt.  \n",
       "153881  Ich kam spät an, also habe ich nicht alles geh...  \n",
       "70783                         Sie hat den Apfel halbiert.  \n",
       "\n",
       "[100 rows x 4 columns]"
      ]
     },
     "execution_count": 12,
     "metadata": {},
     "output_type": "execute_result"
    }
   ],
   "source": [
    "df1"
   ]
  },
  {
   "cell_type": "code",
   "execution_count": null,
   "metadata": {},
   "outputs": [],
   "source": []
  }
 ],
 "metadata": {
  "kernelspec": {
   "display_name": "Python 3.10.4 ('env1')",
   "language": "python",
   "name": "python3"
  },
  "language_info": {
   "codemirror_mode": {
    "name": "ipython",
    "version": 3
   },
   "file_extension": ".py",
   "mimetype": "text/x-python",
   "name": "python",
   "nbconvert_exporter": "python",
   "pygments_lexer": "ipython3",
   "version": "3.10.4"
  },
  "orig_nbformat": 4,
  "vscode": {
   "interpreter": {
    "hash": "5024435cbfb8faf8bbbcdcac495405647c340211599983c8ce8e312773b27794"
   }
  }
 },
 "nbformat": 4,
 "nbformat_minor": 2
}
