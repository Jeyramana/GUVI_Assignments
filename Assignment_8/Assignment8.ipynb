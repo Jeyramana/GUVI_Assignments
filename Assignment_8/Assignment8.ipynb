{
 "cells": [
  {
   "cell_type": "markdown",
   "metadata": {},
   "source": [
    "# Assignment - 8"
   ]
  },
  {
   "cell_type": "markdown",
   "metadata": {},
   "source": [
    "# How Much is Your Car Worth?\n",
    "\n",
    "Data about the retail price of 2005 General Motors cars can be found in `car_data.csv`.\n",
    "\n",
    "The columns are:\n",
    "\n",
    "1. Price: suggested retail price of the used 2005 GM car in excellent condition.\n",
    "2. Mileage: number of miles the car has been driven\n",
    "3. Make: manufacturer of the car such as Saturn, Pontiac, and Chevrolet\n",
    "4. Model: specific models for each car manufacturer such as Ion, Vibe, Cavalier\n",
    "5. Trim (of car): specific type of car model such as SE Sedan 4D, Quad Coupe 2D          \n",
    "6. Type: body type such as sedan, coupe, etc.      \n",
    "7. Cylinder: number of cylinders in the engine        \n",
    "8. Liter: a more specific measure of engine size     \n",
    "9. Doors: number of doors           \n",
    "10. Cruise: indicator variable representing whether the car has cruise control (1 = cruise)\n",
    "11. Sound: indicator variable representing whether the car has upgraded speakers (1 = upgraded)\n",
    "12. Leather: indicator variable representing whether the car has leather seats (1 = leather)\n",
    "\n",
    "\n",
    "\n",
    "\n",
    "\n"
   ]
  },
  {
   "cell_type": "markdown",
   "metadata": {},
   "source": [
    "## Import Libraries"
   ]
  },
  {
   "cell_type": "code",
   "execution_count": 13,
   "metadata": {
    "collapsed": true
   },
   "outputs": [],
   "source": [
    "import pandas as pd\n",
    "import matplotlib.pyplot as plt\n",
    "import numpy as np\n",
    "from sklearn.linear_model import LinearRegression\n",
    "import itertools as it"
   ]
  },
  {
   "cell_type": "code",
   "execution_count": 2,
   "metadata": {},
   "outputs": [
    {
     "data": {
      "text/html": [
       "<div>\n",
       "<style scoped>\n",
       "    .dataframe tbody tr th:only-of-type {\n",
       "        vertical-align: middle;\n",
       "    }\n",
       "\n",
       "    .dataframe tbody tr th {\n",
       "        vertical-align: top;\n",
       "    }\n",
       "\n",
       "    .dataframe thead th {\n",
       "        text-align: right;\n",
       "    }\n",
       "</style>\n",
       "<table border=\"1\" class=\"dataframe\">\n",
       "  <thead>\n",
       "    <tr style=\"text-align: right;\">\n",
       "      <th></th>\n",
       "      <th>Price</th>\n",
       "      <th>Mileage</th>\n",
       "      <th>Make</th>\n",
       "      <th>Model</th>\n",
       "      <th>Trim</th>\n",
       "      <th>Type</th>\n",
       "      <th>Cylinder</th>\n",
       "      <th>Liter</th>\n",
       "      <th>Doors</th>\n",
       "      <th>Cruise</th>\n",
       "      <th>Sound</th>\n",
       "      <th>Leather</th>\n",
       "    </tr>\n",
       "  </thead>\n",
       "  <tbody>\n",
       "    <tr>\n",
       "      <th>0</th>\n",
       "      <td>17314.103129</td>\n",
       "      <td>8221</td>\n",
       "      <td>Buick</td>\n",
       "      <td>Century</td>\n",
       "      <td>Sedan 4D</td>\n",
       "      <td>Sedan</td>\n",
       "      <td>6</td>\n",
       "      <td>3.1</td>\n",
       "      <td>4</td>\n",
       "      <td>1</td>\n",
       "      <td>1</td>\n",
       "      <td>1</td>\n",
       "    </tr>\n",
       "    <tr>\n",
       "      <th>1</th>\n",
       "      <td>17542.036083</td>\n",
       "      <td>9135</td>\n",
       "      <td>Buick</td>\n",
       "      <td>Century</td>\n",
       "      <td>Sedan 4D</td>\n",
       "      <td>Sedan</td>\n",
       "      <td>6</td>\n",
       "      <td>3.1</td>\n",
       "      <td>4</td>\n",
       "      <td>1</td>\n",
       "      <td>1</td>\n",
       "      <td>0</td>\n",
       "    </tr>\n",
       "    <tr>\n",
       "      <th>2</th>\n",
       "      <td>16218.847862</td>\n",
       "      <td>13196</td>\n",
       "      <td>Buick</td>\n",
       "      <td>Century</td>\n",
       "      <td>Sedan 4D</td>\n",
       "      <td>Sedan</td>\n",
       "      <td>6</td>\n",
       "      <td>3.1</td>\n",
       "      <td>4</td>\n",
       "      <td>1</td>\n",
       "      <td>1</td>\n",
       "      <td>0</td>\n",
       "    </tr>\n",
       "    <tr>\n",
       "      <th>3</th>\n",
       "      <td>16336.913140</td>\n",
       "      <td>16342</td>\n",
       "      <td>Buick</td>\n",
       "      <td>Century</td>\n",
       "      <td>Sedan 4D</td>\n",
       "      <td>Sedan</td>\n",
       "      <td>6</td>\n",
       "      <td>3.1</td>\n",
       "      <td>4</td>\n",
       "      <td>1</td>\n",
       "      <td>0</td>\n",
       "      <td>0</td>\n",
       "    </tr>\n",
       "    <tr>\n",
       "      <th>4</th>\n",
       "      <td>16339.170324</td>\n",
       "      <td>19832</td>\n",
       "      <td>Buick</td>\n",
       "      <td>Century</td>\n",
       "      <td>Sedan 4D</td>\n",
       "      <td>Sedan</td>\n",
       "      <td>6</td>\n",
       "      <td>3.1</td>\n",
       "      <td>4</td>\n",
       "      <td>1</td>\n",
       "      <td>0</td>\n",
       "      <td>1</td>\n",
       "    </tr>\n",
       "  </tbody>\n",
       "</table>\n",
       "</div>"
      ],
      "text/plain": [
       "          Price  Mileage   Make    Model      Trim   Type  Cylinder  Liter  \\\n",
       "0  17314.103129     8221  Buick  Century  Sedan 4D  Sedan         6    3.1   \n",
       "1  17542.036083     9135  Buick  Century  Sedan 4D  Sedan         6    3.1   \n",
       "2  16218.847862    13196  Buick  Century  Sedan 4D  Sedan         6    3.1   \n",
       "3  16336.913140    16342  Buick  Century  Sedan 4D  Sedan         6    3.1   \n",
       "4  16339.170324    19832  Buick  Century  Sedan 4D  Sedan         6    3.1   \n",
       "\n",
       "   Doors  Cruise  Sound  Leather  \n",
       "0      4       1      1        1  \n",
       "1      4       1      1        0  \n",
       "2      4       1      1        0  \n",
       "3      4       1      0        0  \n",
       "4      4       1      0        1  "
      ]
     },
     "execution_count": 2,
     "metadata": {},
     "output_type": "execute_result"
    }
   ],
   "source": [
    "df = pd.read_csv(\"car_data.csv\")\n",
    "df.head()"
   ]
  },
  {
   "cell_type": "code",
   "execution_count": 4,
   "metadata": {},
   "outputs": [
    {
     "data": {
      "text/html": [
       "<div>\n",
       "<style scoped>\n",
       "    .dataframe tbody tr th:only-of-type {\n",
       "        vertical-align: middle;\n",
       "    }\n",
       "\n",
       "    .dataframe tbody tr th {\n",
       "        vertical-align: top;\n",
       "    }\n",
       "\n",
       "    .dataframe thead th {\n",
       "        text-align: right;\n",
       "    }\n",
       "</style>\n",
       "<table border=\"1\" class=\"dataframe\">\n",
       "  <thead>\n",
       "    <tr style=\"text-align: right;\">\n",
       "      <th></th>\n",
       "      <th>Price</th>\n",
       "      <th>Mileage</th>\n",
       "      <th>Cylinder</th>\n",
       "      <th>Liter</th>\n",
       "      <th>Doors</th>\n",
       "      <th>Cruise</th>\n",
       "      <th>Sound</th>\n",
       "      <th>Leather</th>\n",
       "    </tr>\n",
       "  </thead>\n",
       "  <tbody>\n",
       "    <tr>\n",
       "      <th>count</th>\n",
       "      <td>804.000000</td>\n",
       "      <td>804.000000</td>\n",
       "      <td>804.000000</td>\n",
       "      <td>804.000000</td>\n",
       "      <td>804.000000</td>\n",
       "      <td>804.000000</td>\n",
       "      <td>804.000000</td>\n",
       "      <td>804.000000</td>\n",
       "    </tr>\n",
       "    <tr>\n",
       "      <th>mean</th>\n",
       "      <td>21343.143767</td>\n",
       "      <td>19831.934080</td>\n",
       "      <td>5.268657</td>\n",
       "      <td>3.037313</td>\n",
       "      <td>3.527363</td>\n",
       "      <td>0.752488</td>\n",
       "      <td>0.679104</td>\n",
       "      <td>0.723881</td>\n",
       "    </tr>\n",
       "    <tr>\n",
       "      <th>std</th>\n",
       "      <td>9884.852801</td>\n",
       "      <td>8196.319707</td>\n",
       "      <td>1.387531</td>\n",
       "      <td>1.105562</td>\n",
       "      <td>0.850169</td>\n",
       "      <td>0.431836</td>\n",
       "      <td>0.467111</td>\n",
       "      <td>0.447355</td>\n",
       "    </tr>\n",
       "    <tr>\n",
       "      <th>min</th>\n",
       "      <td>8638.930895</td>\n",
       "      <td>266.000000</td>\n",
       "      <td>4.000000</td>\n",
       "      <td>1.600000</td>\n",
       "      <td>2.000000</td>\n",
       "      <td>0.000000</td>\n",
       "      <td>0.000000</td>\n",
       "      <td>0.000000</td>\n",
       "    </tr>\n",
       "    <tr>\n",
       "      <th>25%</th>\n",
       "      <td>14273.073870</td>\n",
       "      <td>14623.500000</td>\n",
       "      <td>4.000000</td>\n",
       "      <td>2.200000</td>\n",
       "      <td>4.000000</td>\n",
       "      <td>1.000000</td>\n",
       "      <td>0.000000</td>\n",
       "      <td>0.000000</td>\n",
       "    </tr>\n",
       "    <tr>\n",
       "      <th>50%</th>\n",
       "      <td>18024.995019</td>\n",
       "      <td>20913.500000</td>\n",
       "      <td>6.000000</td>\n",
       "      <td>2.800000</td>\n",
       "      <td>4.000000</td>\n",
       "      <td>1.000000</td>\n",
       "      <td>1.000000</td>\n",
       "      <td>1.000000</td>\n",
       "    </tr>\n",
       "    <tr>\n",
       "      <th>75%</th>\n",
       "      <td>26717.316636</td>\n",
       "      <td>25213.000000</td>\n",
       "      <td>6.000000</td>\n",
       "      <td>3.800000</td>\n",
       "      <td>4.000000</td>\n",
       "      <td>1.000000</td>\n",
       "      <td>1.000000</td>\n",
       "      <td>1.000000</td>\n",
       "    </tr>\n",
       "    <tr>\n",
       "      <th>max</th>\n",
       "      <td>70755.466717</td>\n",
       "      <td>50387.000000</td>\n",
       "      <td>8.000000</td>\n",
       "      <td>6.000000</td>\n",
       "      <td>4.000000</td>\n",
       "      <td>1.000000</td>\n",
       "      <td>1.000000</td>\n",
       "      <td>1.000000</td>\n",
       "    </tr>\n",
       "  </tbody>\n",
       "</table>\n",
       "</div>"
      ],
      "text/plain": [
       "              Price       Mileage    Cylinder       Liter       Doors  \\\n",
       "count    804.000000    804.000000  804.000000  804.000000  804.000000   \n",
       "mean   21343.143767  19831.934080    5.268657    3.037313    3.527363   \n",
       "std     9884.852801   8196.319707    1.387531    1.105562    0.850169   \n",
       "min     8638.930895    266.000000    4.000000    1.600000    2.000000   \n",
       "25%    14273.073870  14623.500000    4.000000    2.200000    4.000000   \n",
       "50%    18024.995019  20913.500000    6.000000    2.800000    4.000000   \n",
       "75%    26717.316636  25213.000000    6.000000    3.800000    4.000000   \n",
       "max    70755.466717  50387.000000    8.000000    6.000000    4.000000   \n",
       "\n",
       "           Cruise       Sound     Leather  \n",
       "count  804.000000  804.000000  804.000000  \n",
       "mean     0.752488    0.679104    0.723881  \n",
       "std      0.431836    0.467111    0.447355  \n",
       "min      0.000000    0.000000    0.000000  \n",
       "25%      1.000000    0.000000    0.000000  \n",
       "50%      1.000000    1.000000    1.000000  \n",
       "75%      1.000000    1.000000    1.000000  \n",
       "max      1.000000    1.000000    1.000000  "
      ]
     },
     "execution_count": 4,
     "metadata": {},
     "output_type": "execute_result"
    }
   ],
   "source": [
    "df.describe()"
   ]
  },
  {
   "cell_type": "markdown",
   "metadata": {},
   "source": [
    "## Tasks, Part 1\n",
    "-------------------------\n",
    "1. Find the linear regression equation for mileage vs price."
   ]
  },
  {
   "cell_type": "code",
   "execution_count": 6,
   "metadata": {},
   "outputs": [],
   "source": [
    "X_train = df.Mileage.values.reshape(-1,1)\n",
    "Y_train = df.Price\n",
    "\n",
    "# Linear Equation:\n",
    "reg_LR = LinearRegression()\n",
    "reg_LR.fit(X_train, Y_train)\n",
    "\n",
    "Y_predict = reg_LR.predict(X_train)"
   ]
  },
  {
   "cell_type": "markdown",
   "metadata": {},
   "source": [
    "2. Chart the original data and the equation on the chart."
   ]
  },
  {
   "cell_type": "code",
   "execution_count": 10,
   "metadata": {},
   "outputs": [
    {
     "data": {
      "text/plain": [
       "Text(0.5, 1.0, 'Mileage vs Price')"
      ]
     },
     "execution_count": 10,
     "metadata": {},
     "output_type": "execute_result"
    },
    {
     "data": {
      "image/png": "[encoded data removed]",
      "text/plain": [
       "<Figure size 640x480 with 1 Axes>"
      ]
     },
     "metadata": {},
     "output_type": "display_data"
    }
   ],
   "source": [
    "plt.scatter(x=X_train, y=Y_train)\n",
    "plt.plot(X_train, Y_predict, color='red')\n",
    "plt.xlabel('Mileage')\n",
    "plt.ylabel('Price')\n",
    "plt.title('Mileage vs Price')"
   ]
  },
  {
   "cell_type": "markdown",
   "metadata": {},
   "source": [
    "3. Find the equation's $R^2$ score (use the `.score` method) to determine whether the equation is a good fit for this data. (0.8 and greater is considered a strong correlation.)"
   ]
  },
  {
   "cell_type": "code",
   "execution_count": 8,
   "metadata": {},
   "outputs": [
    {
     "data": {
      "text/plain": [
       "0.02046344732348926"
      ]
     },
     "execution_count": 8,
     "metadata": {},
     "output_type": "execute_result"
    }
   ],
   "source": [
    "reg_LR.score(X_train, Y_train)"
   ]
  },
  {
   "cell_type": "markdown",
   "metadata": {},
   "source": [
    "## Tasks, Part 2\n",
    "-----------------\n",
    "1. Use mileage, cylinders, liters, doors, cruise, sound, and leather to find the linear regression equation."
   ]
  },
  {
   "cell_type": "code",
   "execution_count": 55,
   "metadata": {},
   "outputs": [],
   "source": [
    "X_train = df[['Mileage', 'Cylinder', 'Liter', 'Doors', 'Cruise', 'Sound', 'Leather']]\n",
    "Y_train = df.Price\n",
    "\n",
    "# Linear Equation:\n",
    "reg_LR = LinearRegression()\n",
    "reg_LR.fit(X_train, Y_train)\n",
    "\n",
    "Y_predict = reg_LR.predict(X_train)"
   ]
  },
  {
   "cell_type": "markdown",
   "metadata": {},
   "source": [
    "2. Find the equation's $R^2$ score (use the `.score` method) to determine whether the equation is a good fit for this data. (0.8 and greater is considered a strong correlation.)"
   ]
  },
  {
   "cell_type": "code",
   "execution_count": 52,
   "metadata": {},
   "outputs": [
    {
     "data": {
      "text/plain": [
       "0.446264353672838"
      ]
     },
     "execution_count": 52,
     "metadata": {},
     "output_type": "execute_result"
    }
   ],
   "source": [
    "reg_LR.score(X_train, Y_train)"
   ]
  },
  {
   "cell_type": "markdown",
   "metadata": {},
   "source": [
    "3. Find the combination of the factors that is the best predictor for price."
   ]
  },
  {
   "cell_type": "code",
   "execution_count": 56,
   "metadata": {},
   "outputs": [],
   "source": [
    "col_combos = []\n",
    "\n",
    "for i in range(len(X_train.columns)):\n",
    "    col_combos += list(it.combinations(X_train.columns, i+1))\n",
    "\n",
    "def reg_score(input_cols):\n",
    "    X_train = df[list(input_cols)]\n",
    "    Y_train = df.Price\n",
    "\n",
    "    # Linear Equation:\n",
    "    reg_LR = LinearRegression()\n",
    "    reg_LR.fit(X_train, Y_train)\n",
    "    return reg_LR.score(X_train, Y_train)"
   ]
  },
  {
   "cell_type": "code",
   "execution_count": 57,
   "metadata": {},
   "outputs": [
    {
     "name": "stdout",
     "output_type": "stream",
     "text": [
      "('Mileage',) 0.02046344732348926\n",
      "('Cylinder',) 0.32385903759512247\n",
      "('Liter',) 0.31152674427904514\n",
      "('Doors',) 0.019251466591467037\n",
      "('Cruise',) 0.1856330092969275\n",
      "('Sound',) 0.015462387624189389\n",
      "('Leather',) 0.024710851264124534\n",
      "('Mileage', 'Cylinder') 0.33982070826367505\n",
      "('Mileage', 'Liter') 0.3291279066854156\n",
      "('Mileage', 'Doors') 0.04039914867118721\n",
      "('Mileage', 'Cruise') 0.20931385583158602\n",
      "('Mileage', 'Sound') 0.036881215967350056\n",
      "('Mileage', 'Leather') 0.04521956340886857\n",
      "('Cylinder', 'Liter') 0.32591551601566593\n",
      "('Cylinder', 'Doors') 0.343460536583038\n",
      "('Cylinder', 'Cruise') 0.3839491324027344\n",
      "('Cylinder', 'Sound') 0.32927527347959384\n",
      "('Cylinder', 'Leather') 0.33698000644980586\n",
      "('Liter', 'Doors') 0.3205156407766834\n",
      "('Liter', 'Cruise') 0.3680458490296845\n",
      "('Liter', 'Sound') 0.31926427639502897\n",
      "('Liter', 'Leather') 0.32337917189904175\n",
      "('Doors', 'Cruise') 0.1996382468921617\n",
      "('Doors', 'Sound') 0.0370162877090342\n",
      "('Doors', 'Leather') 0.04141817346866039\n",
      "('Cruise', 'Sound') 0.19288948066869616\n",
      "('Cruise', 'Leather') 0.2210042052179847\n",
      "('Sound', 'Leather') 0.04795369092082724\n",
      "('Mileage', 'Cylinder', 'Liter') 0.34228021178720824\n",
      "('Mileage', 'Cylinder', 'Doors') 0.3600299189649302\n",
      "('Mileage', 'Cylinder', 'Cruise') 0.4023745860316019\n",
      "('Mileage', 'Cylinder', 'Sound') 0.34579303945195394\n",
      "('Mileage', 'Cylinder', 'Leather') 0.35303578931823953\n",
      "('Mileage', 'Liter', 'Doors') 0.33859102766485816\n",
      "('Mileage', 'Liter', 'Cruise') 0.38792398390551597\n",
      "('Mileage', 'Liter', 'Sound') 0.3375252452641956\n",
      "('Mileage', 'Liter', 'Leather') 0.34105691618639966\n",
      "('Mileage', 'Doors', 'Cruise') 0.2239031407636466\n",
      "('Mileage', 'Doors', 'Sound') 0.05925054392042661\n",
      "('Mileage', 'Doors', 'Leather') 0.06256392121987708\n",
      "('Mileage', 'Cruise', 'Sound') 0.21721656906779263\n",
      "('Mileage', 'Cruise', 'Leather') 0.24484643441472986\n",
      "('Mileage', 'Sound', 'Leather') 0.06965940622436506\n",
      "('Cylinder', 'Liter', 'Doors') 0.3434954780689595\n",
      "('Cylinder', 'Liter', 'Cruise') 0.3840622008524506\n",
      "('Cylinder', 'Liter', 'Sound') 0.3318486045315714\n",
      "('Cylinder', 'Liter', 'Leather') 0.33853269361625415\n",
      "('Cylinder', 'Doors', 'Cruise') 0.4001989079545568\n",
      "('Cylinder', 'Doors', 'Sound') 0.3502699330133767\n",
      "('Cylinder', 'Doors', 'Leather') 0.35470261300089967\n",
      "('Cylinder', 'Cruise', 'Sound') 0.3873058022296456\n",
      "('Cylinder', 'Cruise', 'Leather') 0.40380272693971553\n",
      "('Cylinder', 'Sound', 'Leather') 0.345985332754168\n",
      "('Liter', 'Doors', 'Cruise') 0.3761916805347969\n",
      "('Liter', 'Doors', 'Sound') 0.32947196699054004\n",
      "('Liter', 'Doors', 'Leather') 0.3312844538529036\n",
      "('Liter', 'Cruise', 'Sound') 0.3730745596141458\n",
      "('Liter', 'Cruise', 'Leather') 0.38665505937731115\n",
      "('Liter', 'Sound', 'Leather') 0.3351140707646345\n",
      "('Doors', 'Cruise', 'Sound') 0.2083536888853531\n",
      "('Doors', 'Cruise', 'Leather') 0.23229120295179528\n",
      "('Doors', 'Sound', 'Leather') 0.06687313316188848\n",
      "('Cruise', 'Sound', 'Leather') 0.23464406340531818\n",
      "('Mileage', 'Cylinder', 'Liter', 'Doors') 0.3601250633027092\n",
      "('Mileage', 'Cylinder', 'Liter', 'Cruise') 0.4025842618924307\n",
      "('Mileage', 'Cylinder', 'Liter', 'Sound') 0.34885465224422074\n",
      "('Mileage', 'Cylinder', 'Liter', 'Leather') 0.354940443055751\n",
      "('Mileage', 'Cylinder', 'Doors', 'Cruise') 0.41914964510731756\n",
      "('Mileage', 'Cylinder', 'Doors', 'Sound') 0.367499129697368\n",
      "('Mileage', 'Cylinder', 'Doors', 'Leather') 0.3713319983845196\n",
      "('Mileage', 'Cylinder', 'Cruise', 'Sound') 0.4061644982625816\n",
      "('Mileage', 'Cylinder', 'Cruise', 'Leather') 0.4225074214774762\n",
      "('Mileage', 'Cylinder', 'Sound', 'Leather') 0.3627841037859245\n",
      "('Mileage', 'Liter', 'Doors', 'Cruise') 0.39653266980131807\n",
      "('Mileage', 'Liter', 'Doors', 'Sound') 0.34830222786670784\n",
      "('Mileage', 'Liter', 'Doors', 'Leather') 0.34940517971815854\n",
      "('Mileage', 'Liter', 'Cruise', 'Sound') 0.39346849142215845\n",
      "('Mileage', 'Liter', 'Cruise', 'Leather') 0.40678789687026895\n",
      "('Mileage', 'Liter', 'Sound', 'Leather') 0.35363153818528137\n",
      "('Mileage', 'Doors', 'Cruise', 'Sound') 0.23336920288580465\n",
      "('Mileage', 'Doors', 'Cruise', 'Leather') 0.2566547812611919\n",
      "('Mileage', 'Doors', 'Sound', 'Leather') 0.08933709379370725\n",
      "('Mileage', 'Cruise', 'Sound', 'Leather') 0.2594013856567561\n",
      "('Cylinder', 'Liter', 'Doors', 'Cruise') 0.40087486932703065\n",
      "('Cylinder', 'Liter', 'Doors', 'Sound') 0.35038121816111223\n",
      "('Cylinder', 'Liter', 'Doors', 'Leather') 0.3547068894092531\n",
      "('Cylinder', 'Liter', 'Cruise', 'Sound') 0.3875431216736017\n",
      "('Cylinder', 'Liter', 'Cruise', 'Leather') 0.40380376425767606\n",
      "('Cylinder', 'Liter', 'Sound', 'Leather') 0.34805583937456297\n",
      "('Cylinder', 'Doors', 'Cruise', 'Sound') 0.40462307098659855\n",
      "('Cylinder', 'Doors', 'Cruise', 'Leather') 0.417760273701972\n",
      "('Cylinder', 'Doors', 'Sound', 'Leather') 0.36511700356207033\n",
      "('Cylinder', 'Cruise', 'Sound', 'Leather') 0.4106549415858881\n",
      "('Liter', 'Doors', 'Cruise', 'Sound') 0.3821808777658824\n",
      "('Liter', 'Doors', 'Cruise', 'Leather') 0.39345887351036213\n",
      "('Liter', 'Doors', 'Sound', 'Leather') 0.3442397580756411\n",
      "('Liter', 'Cruise', 'Sound', 'Leather') 0.395642607365684\n",
      "('Doors', 'Cruise', 'Sound', 'Leather') 0.2474491349580753\n",
      "('Mileage', 'Cylinder', 'Liter', 'Doors', 'Cruise') 0.4196580477703242\n",
      "('Mileage', 'Cylinder', 'Liter', 'Doors', 'Sound') 0.36771522262682865\n",
      "('Mileage', 'Cylinder', 'Liter', 'Doors', 'Leather') 0.37136690890240676\n",
      "('Mileage', 'Cylinder', 'Liter', 'Cruise', 'Sound') 0.40654915865835195\n",
      "('Mileage', 'Cylinder', 'Liter', 'Cruise', 'Leather') 0.4225307670398467\n",
      "('Mileage', 'Cylinder', 'Liter', 'Sound', 'Leather') 0.365294232839972\n",
      "('Mileage', 'Cylinder', 'Doors', 'Cruise', 'Sound') 0.42409748258510405\n",
      "('Mileage', 'Cylinder', 'Doors', 'Cruise', 'Leather') 0.4369402151237246\n",
      "('Mileage', 'Cylinder', 'Doors', 'Sound', 'Leather') 0.38258521179336924\n",
      "('Mileage', 'Cylinder', 'Cruise', 'Sound', 'Leather') 0.43001820483252684\n",
      "('Mileage', 'Liter', 'Doors', 'Cruise', 'Sound') 0.4031213170211536\n",
      "('Mileage', 'Liter', 'Doors', 'Cruise', 'Leather') 0.414009223163035\n",
      "('Mileage', 'Liter', 'Doors', 'Sound', 'Leather') 0.36329101174690714\n",
      "('Mileage', 'Liter', 'Cruise', 'Sound', 'Leather') 0.41650804904235117\n",
      "('Mileage', 'Doors', 'Cruise', 'Sound', 'Leather') 0.27282594767567814\n",
      "('Cylinder', 'Liter', 'Doors', 'Cruise', 'Sound') 0.4050927515057854\n",
      "('Cylinder', 'Liter', 'Doors', 'Cruise', 'Leather') 0.4188394218057132\n",
      "('Cylinder', 'Liter', 'Doors', 'Sound', 'Leather') 0.36516944395094475\n",
      "('Cylinder', 'Liter', 'Cruise', 'Sound', 'Leather') 0.4107029526441046\n",
      "('Cylinder', 'Doors', 'Cruise', 'Sound', 'Leather') 0.4257681327974421\n",
      "('Liter', 'Doors', 'Cruise', 'Sound', 'Leather') 0.40346337208358085\n",
      "('Mileage', 'Cylinder', 'Liter', 'Doors', 'Cruise', 'Sound') 0.42441824017998775\n",
      "('Mileage', 'Cylinder', 'Liter', 'Doors', 'Cruise', 'Leather') 0.437805741536638\n",
      "('Mileage', 'Cylinder', 'Liter', 'Doors', 'Sound', 'Leather') 0.38271504500215814\n",
      "('Mileage', 'Cylinder', 'Liter', 'Cruise', 'Sound', 'Leather') 0.43014148406475605\n",
      "('Mileage', 'Cylinder', 'Doors', 'Cruise', 'Sound', 'Leather') 0.44569092105870245\n",
      "('Mileage', 'Liter', 'Doors', 'Cruise', 'Sound', 'Leather') 0.42482840454267856\n",
      "('Cylinder', 'Liter', 'Doors', 'Cruise', 'Sound', 'Leather') 0.4265348637809264\n",
      "('Mileage', 'Cylinder', 'Liter', 'Doors', 'Cruise', 'Sound', 'Leather') 0.446264353672838\n"
     ]
    }
   ],
   "source": [
    "max_score = 0\n",
    "trains = []\n",
    "for i in col_combos:\n",
    "    score = reg_score(i)\n",
    "    if max_score < score:\n",
    "        trains = []\n",
    "        max_score = score\n",
    "        trains += list(i)\n",
    "    print(i, reg_score(i))"
   ]
  },
  {
   "cell_type": "code",
   "execution_count": 58,
   "metadata": {},
   "outputs": [
    {
     "name": "stdout",
     "output_type": "stream",
     "text": [
      "['Mileage', 'Cylinder', 'Liter', 'Doors', 'Cruise', 'Sound', 'Leather'] 0.446264353672838\n"
     ]
    }
   ],
   "source": [
    "print(trains, max_score) # Best R2 Score"
   ]
  },
  {
   "cell_type": "markdown",
   "metadata": {},
   "source": [
    "## Tasks, Hard Mode\n",
    "--------------------\n",
    "1. Research dummy variables in scikit-learn to see how to use the make, model, and body type."
   ]
  },
  {
   "cell_type": "code",
   "execution_count": 59,
   "metadata": {},
   "outputs": [],
   "source": [
    "X_train = df[['Make', 'Model', 'Type']]\n",
    "X_train = pd.get_dummies(X_train)\n",
    "Y_train = df.Price.values.reshape(-1,1)\n",
    "\n",
    "# Linear Equation:\n",
    "reg_LR = LinearRegression()\n",
    "reg_LR.fit(X_train, Y_train)\n",
    "\n",
    "Y_predict = reg_LR.predict(X_train)"
   ]
  },
  {
   "cell_type": "code",
   "execution_count": 60,
   "metadata": {},
   "outputs": [
    {
     "data": {
      "text/plain": [
       "0.9584648879374322"
      ]
     },
     "execution_count": 60,
     "metadata": {},
     "output_type": "execute_result"
    }
   ],
   "source": [
    "reg_LR.score(X_train, Y_train) # R2 Score is high, means fit is good."
   ]
  },
  {
   "cell_type": "markdown",
   "metadata": {},
   "source": [
    "2. Find the best combination of factors to predict price."
   ]
  },
  {
   "cell_type": "code",
   "execution_count": null,
   "metadata": {},
   "outputs": [],
   "source": [
    "col_combos = []\n",
    "\n",
    "for i in range(len(X_train.columns)):\n",
    "    col_combos += list(it.combinations(X_train.columns, i+1))\n",
    "\n",
    "def reg_score(input_cols):\n",
    "    X_train = df[list(input_cols)]\n",
    "    Y_train = df.Price\n",
    "\n",
    "    # Linear Equation:\n",
    "    reg_LR = LinearRegression()\n",
    "    reg_LR.fit(X_train, Y_train)\n",
    "    return reg_LR.score(X_train, Y_train)"
   ]
  },
  {
   "cell_type": "code",
   "execution_count": null,
   "metadata": {},
   "outputs": [],
   "source": [
    "max_score = 0\n",
    "trains = []\n",
    "for i in col_combos:\n",
    "    score = reg_score(i)\n",
    "    if max_score < score:\n",
    "        trains = []\n",
    "        max_score = score\n",
    "        trains += list(i)\n",
    "    print(i, reg_score(i))"
   ]
  }
 ],
 "metadata": {
  "kernelspec": {
   "display_name": "Python 3.10.4 ('env1')",
   "language": "python",
   "name": "python3"
  },
  "language_info": {
   "codemirror_mode": {
    "name": "ipython",
    "version": 3
   },
   "file_extension": ".py",
   "mimetype": "text/x-python",
   "name": "python",
   "nbconvert_exporter": "python",
   "pygments_lexer": "ipython3",
   "version": "3.10.4"
  },
  "vscode": {
   "interpreter": {
    "hash": "5024435cbfb8faf8bbbcdcac495405647c340211599983c8ce8e312773b27794"
   }
  }
 },
 "nbformat": 4,
 "nbformat_minor": 1
}
